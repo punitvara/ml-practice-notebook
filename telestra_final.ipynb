{
  "nbformat": 4,
  "nbformat_minor": 0,
  "metadata": {
    "kernelspec": {
      "display_name": "Python 3",
      "language": "python",
      "name": "python3"
    },
    "language_info": {
      "codemirror_mode": {
        "name": "ipython",
        "version": 3
      },
      "file_extension": ".py",
      "mimetype": "text/x-python",
      "name": "python",
      "nbconvert_exporter": "python",
      "pygments_lexer": "ipython3",
      "version": "3.7.1"
    },
    "colab": {
      "name": "telestra_final.ipynb",
      "provenance": [],
      "include_colab_link": true
    }
  },
  "cells": [
    {
      "cell_type": "markdown",
      "metadata": {
        "id": "view-in-github",
        "colab_type": "text"
      },
      "source": [
        "<a href=\"https://colab.research.google.com/github/punitvara/ml-practice-notebook/blob/master/telestra_final.ipynb\" target=\"_parent\"><img src=\"https://colab.research.google.com/assets/colab-badge.svg\" alt=\"Open In Colab\"/></a>"
      ]
    },
    {
      "cell_type": "code",
      "metadata": {
        "id": "po8yGk7HAuQB",
        "colab_type": "code",
        "colab": {}
      },
      "source": [
        "import numpy as np\n",
        "import pandas as pd\n",
        "import os\n",
        "import seaborn as sns\n",
        "import matplotlib.pyplot as plt\n",
        "%matplotlib inline\n"
      ],
      "execution_count": 0,
      "outputs": []
    },
    {
      "cell_type": "code",
      "metadata": {
        "id": "lAYssoZZAuQE",
        "colab_type": "code",
        "colab": {}
      },
      "source": [
        "train = pd.read_csv('train.csv')\n",
        "test = pd.read_csv('test.csv')\n",
        "severity_type = pd.read_csv('severity_type.csv', error_bad_lines= False, warn_bad_lines= False)\n",
        "resource_type = pd.read_csv('resource_type.csv', error_bad_lines= False, warn_bad_lines= False)\n",
        "log_failure = pd.read_csv('log_feature.csv', error_bad_lines= False, warn_bad_lines= False)\n",
        "event_type = pd.read_csv('event_type.csv', error_bad_lines=False, warn_bad_lines= False)\n"
      ],
      "execution_count": 0,
      "outputs": []
    },
    {
      "cell_type": "code",
      "metadata": {
        "id": "1N2R1dfZ45nA",
        "colab_type": "code",
        "colab": {}
      },
      "source": [
        ""
      ],
      "execution_count": 0,
      "outputs": []
    },
    {
      "cell_type": "code",
      "metadata": {
        "id": "OnR7I4bnAuQG",
        "colab_type": "code",
        "outputId": "4610fdfb-4d32-4986-bfb5-97273eff3102",
        "colab": {
          "base_uri": "https://localhost:8080/",
          "height": 367
        }
      },
      "source": [
        "!pip3 install catboost\n",
        "from sklearn import preprocessing\n",
        "from sklearn.linear_model import LogisticRegression\n",
        "from sklearn.naive_bayes import GaussianNB\n",
        "from sklearn import tree\n",
        "from sklearn import svm\n",
        "from sklearn.ensemble import AdaBoostClassifier\n",
        "from sklearn.neighbors import KNeighborsClassifier\n",
        "from sklearn import ensemble\n",
        "from sklearn.metrics import accuracy_score, log_loss\n",
        "from sklearn.ensemble import RandomForestClassifier\n",
        "from sklearn.preprocessing import LabelEncoder\n",
        "from sklearn import metrics\n",
        "from rrf import RefinedRandomForest\n",
        "from catboost import CatBoostClassifier"
      ],
      "execution_count": 0,
      "outputs": [
        {
          "output_type": "stream",
          "text": [
            "Collecting catboost\n",
            "\u001b[?25l  Downloading https://files.pythonhosted.org/packages/3d/f6/733fe7cca5d0d882e1a708ad59da2510416cc2e4fa54e17c7a5082f67811/catboost-0.20.1-cp36-none-manylinux1_x86_64.whl (63.6MB)\n",
            "\u001b[K     |████████████████████████████████| 63.6MB 35kB/s \n",
            "\u001b[?25hRequirement already satisfied: scipy in /usr/local/lib/python3.6/dist-packages (from catboost) (1.3.3)\n",
            "Requirement already satisfied: six in /usr/local/lib/python3.6/dist-packages (from catboost) (1.12.0)\n",
            "Requirement already satisfied: graphviz in /usr/local/lib/python3.6/dist-packages (from catboost) (0.10.1)\n",
            "Requirement already satisfied: pandas>=0.24.0 in /usr/local/lib/python3.6/dist-packages (from catboost) (0.25.3)\n",
            "Requirement already satisfied: matplotlib in /usr/local/lib/python3.6/dist-packages (from catboost) (3.1.2)\n",
            "Requirement already satisfied: plotly in /usr/local/lib/python3.6/dist-packages (from catboost) (4.1.1)\n",
            "Requirement already satisfied: numpy>=1.16.0 in /usr/local/lib/python3.6/dist-packages (from catboost) (1.17.4)\n",
            "Requirement already satisfied: python-dateutil>=2.6.1 in /usr/local/lib/python3.6/dist-packages (from pandas>=0.24.0->catboost) (2.6.1)\n",
            "Requirement already satisfied: pytz>=2017.2 in /usr/local/lib/python3.6/dist-packages (from pandas>=0.24.0->catboost) (2018.9)\n",
            "Requirement already satisfied: cycler>=0.10 in /usr/local/lib/python3.6/dist-packages (from matplotlib->catboost) (0.10.0)\n",
            "Requirement already satisfied: kiwisolver>=1.0.1 in /usr/local/lib/python3.6/dist-packages (from matplotlib->catboost) (1.1.0)\n",
            "Requirement already satisfied: pyparsing!=2.0.4,!=2.1.2,!=2.1.6,>=2.0.1 in /usr/local/lib/python3.6/dist-packages (from matplotlib->catboost) (2.4.5)\n",
            "Requirement already satisfied: retrying>=1.3.3 in /usr/local/lib/python3.6/dist-packages (from plotly->catboost) (1.3.3)\n",
            "Requirement already satisfied: setuptools in /usr/local/lib/python3.6/dist-packages (from kiwisolver>=1.0.1->matplotlib->catboost) (42.0.2)\n",
            "Installing collected packages: catboost\n",
            "Successfully installed catboost-0.20.1\n"
          ],
          "name": "stdout"
        }
      ]
    },
    {
      "cell_type": "code",
      "metadata": {
        "id": "qYFA6rBhAuQH",
        "colab_type": "code",
        "outputId": "f36152a7-3ada-4233-ae39-c34f2c82bfe7",
        "colab": {
          "base_uri": "https://localhost:8080/",
          "height": 52
        }
      },
      "source": [
        "print(\"test\",test.shape)\n",
        "print(\"train\",train.shape)"
      ],
      "execution_count": 0,
      "outputs": [
        {
          "output_type": "stream",
          "text": [
            "test (11171, 2)\n",
            "train (7381, 3)\n"
          ],
          "name": "stdout"
        }
      ]
    },
    {
      "cell_type": "code",
      "metadata": {
        "id": "g6DKSfCaAuQK",
        "colab_type": "code",
        "outputId": "e26963a9-791e-47bb-d2fe-03cb7223755e",
        "colab": {
          "base_uri": "https://localhost:8080/",
          "height": 416
        }
      },
      "source": [
        "print('test',test.head())\n",
        "print('train',train.head(4))\n",
        "#print('sample_submission',sample_submission.head())\n",
        "print('event_type',event_type.shape,event_type.head(2))\n",
        "print('severity_type',severity_type.shape,severity_type.head(2))\n",
        "print('log_feature',log_failure.shape,log_failure.head(2))\n",
        "print('resource_type',resource_type.shape,resource_type.head(2))\n"
      ],
      "execution_count": 0,
      "outputs": [
        {
          "output_type": "stream",
          "text": [
            "test       id      location\n",
            "0  11066  location 481\n",
            "1  18000  location 962\n",
            "2  16964  location 491\n",
            "3   4795  location 532\n",
            "4   3392  location 600\n",
            "train       id      location  fault_severity\n",
            "0  14121  location 118               1\n",
            "1   9320   location 91               0\n",
            "2  14394  location 152               1\n",
            "3   8218  location 931               1\n",
            "event_type (31170, 2)      id     event_type\n",
            "0  6597  event_type 11\n",
            "1  8011  event_type 15\n",
            "severity_type (18552, 2)      id    severity_type\n",
            "0  6597  severity_type 2\n",
            "1  8011  severity_type 2\n",
            "log_feature (58671, 3)      id log_feature  volume\n",
            "0  6597  feature 68       6\n",
            "1  8011  feature 68       7\n",
            "resource_type (21076, 2)      id    resource_type\n",
            "0  6597  resource_type 8\n",
            "1  8011  resource_type 8\n"
          ],
          "name": "stdout"
        }
      ]
    },
    {
      "cell_type": "code",
      "metadata": {
        "id": "KAuaKxRsAuQM",
        "colab_type": "code",
        "colab": {}
      },
      "source": [
        "def merge_fn(df1,df2,col_name,how_param):\n",
        "    merged_df=df1.merge(df2,how=how_param,on=col_name)\n",
        "    return merged_df"
      ],
      "execution_count": 0,
      "outputs": []
    },
    {
      "cell_type": "code",
      "metadata": {
        "id": "yTaZd6-uAuQO",
        "colab_type": "code",
        "colab": {}
      },
      "source": [
        "train_merge1=merge_fn(train,event_type.drop_duplicates(subset=['id']),'id','left')\n",
        "train_merge2=merge_fn(train_merge1,severity_type.drop_duplicates(subset=['id']),'id','left')\n",
        "train_merge3=merge_fn(train_merge2,log_failure.drop_duplicates(subset=['id']),'id','left')\n",
        "train_merge4=merge_fn(train_merge3,resource_type.drop_duplicates(subset=['id']),'id','left')"
      ],
      "execution_count": 0,
      "outputs": []
    },
    {
      "cell_type": "code",
      "metadata": {
        "id": "3E12xiPjAuQQ",
        "colab_type": "code",
        "outputId": "f7f2bd5c-67fa-4c69-8fb0-15c74df80f36",
        "colab": {
          "base_uri": "https://localhost:8080/",
          "height": 35
        }
      },
      "source": [
        "train_merge4.shape\n"
      ],
      "execution_count": 0,
      "outputs": [
        {
          "output_type": "execute_result",
          "data": {
            "text/plain": [
              "(7381, 8)"
            ]
          },
          "metadata": {
            "tags": []
          },
          "execution_count": 8
        }
      ]
    },
    {
      "cell_type": "code",
      "metadata": {
        "id": "7yfh-MaEAuQS",
        "colab_type": "code",
        "outputId": "4d460d19-17eb-425e-a853-ac6038aa6ed4",
        "colab": {
          "base_uri": "https://localhost:8080/",
          "height": 202
        }
      },
      "source": [
        "train_merge4.head()"
      ],
      "execution_count": 0,
      "outputs": [
        {
          "output_type": "execute_result",
          "data": {
            "text/html": [
              "<div>\n",
              "<style scoped>\n",
              "    .dataframe tbody tr th:only-of-type {\n",
              "        vertical-align: middle;\n",
              "    }\n",
              "\n",
              "    .dataframe tbody tr th {\n",
              "        vertical-align: top;\n",
              "    }\n",
              "\n",
              "    .dataframe thead th {\n",
              "        text-align: right;\n",
              "    }\n",
              "</style>\n",
              "<table border=\"1\" class=\"dataframe\">\n",
              "  <thead>\n",
              "    <tr style=\"text-align: right;\">\n",
              "      <th></th>\n",
              "      <th>id</th>\n",
              "      <th>location</th>\n",
              "      <th>fault_severity</th>\n",
              "      <th>event_type</th>\n",
              "      <th>severity_type</th>\n",
              "      <th>log_feature</th>\n",
              "      <th>volume</th>\n",
              "      <th>resource_type</th>\n",
              "    </tr>\n",
              "  </thead>\n",
              "  <tbody>\n",
              "    <tr>\n",
              "      <th>0</th>\n",
              "      <td>14121</td>\n",
              "      <td>location 118</td>\n",
              "      <td>1</td>\n",
              "      <td>event_type 34</td>\n",
              "      <td>severity_type 2</td>\n",
              "      <td>feature 312</td>\n",
              "      <td>19</td>\n",
              "      <td>resource_type 2</td>\n",
              "    </tr>\n",
              "    <tr>\n",
              "      <th>1</th>\n",
              "      <td>9320</td>\n",
              "      <td>location 91</td>\n",
              "      <td>0</td>\n",
              "      <td>event_type 34</td>\n",
              "      <td>severity_type 2</td>\n",
              "      <td>feature 315</td>\n",
              "      <td>200</td>\n",
              "      <td>resource_type 2</td>\n",
              "    </tr>\n",
              "    <tr>\n",
              "      <th>2</th>\n",
              "      <td>14394</td>\n",
              "      <td>location 152</td>\n",
              "      <td>1</td>\n",
              "      <td>event_type 35</td>\n",
              "      <td>severity_type 2</td>\n",
              "      <td>feature 221</td>\n",
              "      <td>1</td>\n",
              "      <td>resource_type 2</td>\n",
              "    </tr>\n",
              "    <tr>\n",
              "      <th>3</th>\n",
              "      <td>8218</td>\n",
              "      <td>location 931</td>\n",
              "      <td>1</td>\n",
              "      <td>event_type 15</td>\n",
              "      <td>severity_type 1</td>\n",
              "      <td>feature 80</td>\n",
              "      <td>9</td>\n",
              "      <td>resource_type 8</td>\n",
              "    </tr>\n",
              "    <tr>\n",
              "      <th>4</th>\n",
              "      <td>14804</td>\n",
              "      <td>location 120</td>\n",
              "      <td>0</td>\n",
              "      <td>event_type 34</td>\n",
              "      <td>severity_type 1</td>\n",
              "      <td>feature 134</td>\n",
              "      <td>1</td>\n",
              "      <td>resource_type 2</td>\n",
              "    </tr>\n",
              "  </tbody>\n",
              "</table>\n",
              "</div>"
            ],
            "text/plain": [
              "      id      location  fault_severity  ...  log_feature volume    resource_type\n",
              "0  14121  location 118               1  ...  feature 312     19  resource_type 2\n",
              "1   9320   location 91               0  ...  feature 315    200  resource_type 2\n",
              "2  14394  location 152               1  ...  feature 221      1  resource_type 2\n",
              "3   8218  location 931               1  ...   feature 80      9  resource_type 8\n",
              "4  14804  location 120               0  ...  feature 134      1  resource_type 2\n",
              "\n",
              "[5 rows x 8 columns]"
            ]
          },
          "metadata": {
            "tags": []
          },
          "execution_count": 9
        }
      ]
    },
    {
      "cell_type": "code",
      "metadata": {
        "id": "zNVOfMMqAuQT",
        "colab_type": "code",
        "outputId": "cc3835ea-2713-4032-f8b6-f06fe10e01ed",
        "colab": {
          "base_uri": "https://localhost:8080/",
          "height": 52
        }
      },
      "source": [
        "plt.figure(figsize = (10,8))\n",
        "#sns.countplot(train_merge4['severity_type'])\n",
        "#plt.show()"
      ],
      "execution_count": 0,
      "outputs": [
        {
          "output_type": "execute_result",
          "data": {
            "text/plain": [
              "<Figure size 720x576 with 0 Axes>"
            ]
          },
          "metadata": {
            "tags": []
          },
          "execution_count": 10
        },
        {
          "output_type": "display_data",
          "data": {
            "text/plain": [
              "<Figure size 720x576 with 0 Axes>"
            ]
          },
          "metadata": {
            "tags": []
          }
        }
      ]
    },
    {
      "cell_type": "code",
      "metadata": {
        "id": "t6Mqa_xkAuQV",
        "colab_type": "code",
        "outputId": "c5cdd2b5-79cd-4478-c7c6-ca879a2bbf27",
        "colab": {
          "base_uri": "https://localhost:8080/",
          "height": 35
        }
      },
      "source": [
        "plt.figure(figsize = (14,6))\n",
        "#sns.countplot(train_merge4['resource_type'])\n",
        "plt.tight_layout()\n",
        "#plt.show()"
      ],
      "execution_count": 0,
      "outputs": [
        {
          "output_type": "display_data",
          "data": {
            "text/plain": [
              "<Figure size 1008x432 with 0 Axes>"
            ]
          },
          "metadata": {
            "tags": []
          }
        }
      ]
    },
    {
      "cell_type": "code",
      "metadata": {
        "id": "zl59UynDAuQY",
        "colab_type": "code",
        "colab": {}
      },
      "source": [
        "cat_col=list(set(train_merge4.columns)-set(train_merge4._get_numeric_data().columns))"
      ],
      "execution_count": 0,
      "outputs": []
    },
    {
      "cell_type": "code",
      "metadata": {
        "id": "fN1LFeNZAuQa",
        "colab_type": "code",
        "colab": {}
      },
      "source": [
        "def categorical_conversion(df,cat_col):\n",
        "    for i in range(len(cat_col)):\n",
        "        df[cat_col[i]]=df[cat_col[i]].astype('category')\n",
        "    return df"
      ],
      "execution_count": 0,
      "outputs": []
    },
    {
      "cell_type": "code",
      "metadata": {
        "id": "JOgQivMHAuQc",
        "colab_type": "code",
        "colab": {}
      },
      "source": [
        "train_merge4=categorical_conversion(train_merge4,cat_col) "
      ],
      "execution_count": 0,
      "outputs": []
    },
    {
      "cell_type": "code",
      "metadata": {
        "id": "dEa4YnxSAuQe",
        "colab_type": "code",
        "outputId": "56fae24e-7057-407f-d212-c3c2bff66147",
        "colab": {
          "base_uri": "https://localhost:8080/",
          "height": 173
        }
      },
      "source": [
        "train_merge4.dtypes"
      ],
      "execution_count": 0,
      "outputs": [
        {
          "output_type": "execute_result",
          "data": {
            "text/plain": [
              "id                   int64\n",
              "location          category\n",
              "fault_severity       int64\n",
              "event_type        category\n",
              "severity_type     category\n",
              "log_feature       category\n",
              "volume               int64\n",
              "resource_type     category\n",
              "dtype: object"
            ]
          },
          "metadata": {
            "tags": []
          },
          "execution_count": 15
        }
      ]
    },
    {
      "cell_type": "code",
      "metadata": {
        "id": "UAZ5JK02AuQg",
        "colab_type": "code",
        "colab": {}
      },
      "source": [
        "def label_encoding_conversion(df,cat_col):\n",
        "    le=preprocessing.LabelEncoder()\n",
        "    for i in range(len(cat_col)):\n",
        "        df[cat_col[i]]=le.fit_transform(df[cat_col[i]])\n",
        "    return df"
      ],
      "execution_count": 0,
      "outputs": []
    },
    {
      "cell_type": "code",
      "metadata": {
        "id": "lGehIyZ9AuQi",
        "colab_type": "code",
        "outputId": "d05224fe-9c49-4b36-8bd5-cae58a56c972",
        "colab": {
          "base_uri": "https://localhost:8080/",
          "height": 69
        }
      },
      "source": [
        "train_merge4.columns"
      ],
      "execution_count": 0,
      "outputs": [
        {
          "output_type": "execute_result",
          "data": {
            "text/plain": [
              "Index(['id', 'location', 'fault_severity', 'event_type', 'severity_type',\n",
              "       'log_feature', 'volume', 'resource_type'],\n",
              "      dtype='object')"
            ]
          },
          "metadata": {
            "tags": []
          },
          "execution_count": 17
        }
      ]
    },
    {
      "cell_type": "code",
      "metadata": {
        "id": "tr0ttC9KAuQk",
        "colab_type": "code",
        "colab": {}
      },
      "source": [
        "train_merge4=label_encoding_conversion(train_merge4,cat_col)"
      ],
      "execution_count": 0,
      "outputs": []
    },
    {
      "cell_type": "code",
      "metadata": {
        "id": "D1haZEcDAuQl",
        "colab_type": "code",
        "colab": {}
      },
      "source": [
        "train_merge4.drop(['id'],axis=1,inplace=True)"
      ],
      "execution_count": 0,
      "outputs": []
    },
    {
      "cell_type": "code",
      "metadata": {
        "id": "2c8uBuiCAuQn",
        "colab_type": "code",
        "colab": {}
      },
      "source": [
        "target=train_merge4[['fault_severity']]"
      ],
      "execution_count": 0,
      "outputs": []
    },
    {
      "cell_type": "code",
      "metadata": {
        "id": "H-PMcGAqAuQq",
        "colab_type": "code",
        "colab": {}
      },
      "source": [
        "train_merge4.drop(['fault_severity'],axis=1,inplace=True)"
      ],
      "execution_count": 0,
      "outputs": []
    },
    {
      "cell_type": "code",
      "metadata": {
        "id": "XFGjQP1lAuQu",
        "colab_type": "code",
        "outputId": "1e8aa5a6-43e3-471b-be9c-20a3a9a1d681",
        "colab": {
          "base_uri": "https://localhost:8080/",
          "height": 202
        }
      },
      "source": [
        "train_merge4.head()"
      ],
      "execution_count": 0,
      "outputs": [
        {
          "output_type": "execute_result",
          "data": {
            "text/html": [
              "<div>\n",
              "<style scoped>\n",
              "    .dataframe tbody tr th:only-of-type {\n",
              "        vertical-align: middle;\n",
              "    }\n",
              "\n",
              "    .dataframe tbody tr th {\n",
              "        vertical-align: top;\n",
              "    }\n",
              "\n",
              "    .dataframe thead th {\n",
              "        text-align: right;\n",
              "    }\n",
              "</style>\n",
              "<table border=\"1\" class=\"dataframe\">\n",
              "  <thead>\n",
              "    <tr style=\"text-align: right;\">\n",
              "      <th></th>\n",
              "      <th>location</th>\n",
              "      <th>event_type</th>\n",
              "      <th>severity_type</th>\n",
              "      <th>log_feature</th>\n",
              "      <th>volume</th>\n",
              "      <th>resource_type</th>\n",
              "    </tr>\n",
              "  </thead>\n",
              "  <tbody>\n",
              "    <tr>\n",
              "      <th>0</th>\n",
              "      <td>131</td>\n",
              "      <td>22</td>\n",
              "      <td>1</td>\n",
              "      <td>143</td>\n",
              "      <td>19</td>\n",
              "      <td>2</td>\n",
              "    </tr>\n",
              "    <tr>\n",
              "      <th>1</th>\n",
              "      <td>850</td>\n",
              "      <td>22</td>\n",
              "      <td>1</td>\n",
              "      <td>146</td>\n",
              "      <td>200</td>\n",
              "      <td>2</td>\n",
              "    </tr>\n",
              "    <tr>\n",
              "      <th>2</th>\n",
              "      <td>163</td>\n",
              "      <td>23</td>\n",
              "      <td>1</td>\n",
              "      <td>88</td>\n",
              "      <td>1</td>\n",
              "      <td>2</td>\n",
              "    </tr>\n",
              "    <tr>\n",
              "      <th>3</th>\n",
              "      <td>870</td>\n",
              "      <td>5</td>\n",
              "      <td>0</td>\n",
              "      <td>211</td>\n",
              "      <td>9</td>\n",
              "      <td>8</td>\n",
              "    </tr>\n",
              "    <tr>\n",
              "      <th>4</th>\n",
              "      <td>134</td>\n",
              "      <td>22</td>\n",
              "      <td>0</td>\n",
              "      <td>21</td>\n",
              "      <td>1</td>\n",
              "      <td>2</td>\n",
              "    </tr>\n",
              "  </tbody>\n",
              "</table>\n",
              "</div>"
            ],
            "text/plain": [
              "   location  event_type  severity_type  log_feature  volume  resource_type\n",
              "0       131          22              1          143      19              2\n",
              "1       850          22              1          146     200              2\n",
              "2       163          23              1           88       1              2\n",
              "3       870           5              0          211       9              8\n",
              "4       134          22              0           21       1              2"
            ]
          },
          "metadata": {
            "tags": []
          },
          "execution_count": 22
        }
      ]
    },
    {
      "cell_type": "code",
      "metadata": {
        "id": "TH4Pn6e_AuQw",
        "colab_type": "code",
        "outputId": "22a85472-cb65-4b49-de42-16b3ee9061db",
        "colab": {
          "base_uri": "https://localhost:8080/",
          "height": 35
        }
      },
      "source": [
        "print(\"train\",train_merge4.shape)"
      ],
      "execution_count": 0,
      "outputs": [
        {
          "output_type": "stream",
          "text": [
            "train (7381, 6)\n"
          ],
          "name": "stdout"
        }
      ]
    },
    {
      "cell_type": "code",
      "metadata": {
        "id": "LCjmges5AuQy",
        "colab_type": "code",
        "colab": {}
      },
      "source": [
        "test_merge1=merge_fn(test,event_type.drop_duplicates(subset=['id']),'id','left')\n",
        "test_merge2=merge_fn(test_merge1,severity_type.drop_duplicates(subset=['id']),'id','left')\n",
        "test_merge3=merge_fn(test_merge2,log_failure.drop_duplicates(subset=['id']),'id','left')\n",
        "test_merge4=merge_fn(test_merge3,resource_type.drop_duplicates(subset=['id']),'id','left')"
      ],
      "execution_count": 0,
      "outputs": []
    },
    {
      "cell_type": "code",
      "metadata": {
        "id": "DlnUvoJbAuQ0",
        "colab_type": "code",
        "outputId": "1552b206-32fa-486e-e204-281d0ddfec8f",
        "colab": {
          "base_uri": "https://localhost:8080/",
          "height": 35
        }
      },
      "source": [
        "test_merge4.shape"
      ],
      "execution_count": 0,
      "outputs": [
        {
          "output_type": "execute_result",
          "data": {
            "text/plain": [
              "(11171, 7)"
            ]
          },
          "metadata": {
            "tags": []
          },
          "execution_count": 25
        }
      ]
    },
    {
      "cell_type": "code",
      "metadata": {
        "id": "ukUEQ5jHAuQ2",
        "colab_type": "code",
        "colab": {}
      },
      "source": [
        "test_merge4=categorical_conversion(test_merge4,cat_col)"
      ],
      "execution_count": 0,
      "outputs": []
    },
    {
      "cell_type": "code",
      "metadata": {
        "id": "TzAJaZkrAuQ5",
        "colab_type": "code",
        "colab": {}
      },
      "source": [
        "test_merge4=label_encoding_conversion(test_merge4,cat_col)"
      ],
      "execution_count": 0,
      "outputs": []
    },
    {
      "cell_type": "code",
      "metadata": {
        "id": "Tspi8Dc4AuQ7",
        "colab_type": "code",
        "colab": {}
      },
      "source": [
        "test_merge4.drop(['id'],axis=1,inplace=True)"
      ],
      "execution_count": 0,
      "outputs": []
    },
    {
      "cell_type": "code",
      "metadata": {
        "id": "V2zUi3Y8AuQ9",
        "colab_type": "code",
        "outputId": "bfa5806d-da64-4ec1-9cde-8dae00e7791b",
        "colab": {
          "base_uri": "https://localhost:8080/",
          "height": 69
        }
      },
      "source": [
        "train_merge4.columns"
      ],
      "execution_count": 0,
      "outputs": [
        {
          "output_type": "execute_result",
          "data": {
            "text/plain": [
              "Index(['location', 'event_type', 'severity_type', 'log_feature', 'volume',\n",
              "       'resource_type'],\n",
              "      dtype='object')"
            ]
          },
          "metadata": {
            "tags": []
          },
          "execution_count": 29
        }
      ]
    },
    {
      "cell_type": "code",
      "metadata": {
        "id": "LVIYWjjMAuQ_",
        "colab_type": "code",
        "outputId": "6f0d5b34-7b43-49ac-cc6f-cac7e243ce06",
        "colab": {
          "base_uri": "https://localhost:8080/",
          "height": 176
        }
      },
      "source": [
        "lr=LogisticRegression(C=1e2)\n",
        "lr.fit(train_merge4,target)\n",
        "lr_pred=lr.predict(test_merge4)\n",
        "lr_proba = lr.predict_proba(train_merge4)\n",
        "As = accuracy_score(pd.DataFrame(lr.predict(train_merge4)),target)\n",
        "print (As)\n",
        "ll_lr = log_loss( target, lr_proba)\n",
        "print (ll_lr) "
      ],
      "execution_count": 0,
      "outputs": [
        {
          "output_type": "stream",
          "text": [
            "0.6501829020457932\n",
            "0.7755159465425586\n"
          ],
          "name": "stdout"
        },
        {
          "output_type": "stream",
          "text": [
            "/usr/local/lib/python3.6/dist-packages/sklearn/linear_model/logistic.py:432: FutureWarning: Default solver will be changed to 'lbfgs' in 0.22. Specify a solver to silence this warning.\n",
            "  FutureWarning)\n",
            "/usr/local/lib/python3.6/dist-packages/sklearn/utils/validation.py:724: DataConversionWarning: A column-vector y was passed when a 1d array was expected. Please change the shape of y to (n_samples, ), for example using ravel().\n",
            "  y = column_or_1d(y, warn=True)\n",
            "/usr/local/lib/python3.6/dist-packages/sklearn/linear_model/logistic.py:469: FutureWarning: Default multi_class will be changed to 'auto' in 0.22. Specify the multi_class option to silence this warning.\n",
            "  \"this warning.\", FutureWarning)\n"
          ],
          "name": "stderr"
        }
      ]
    },
    {
      "cell_type": "code",
      "metadata": {
        "id": "cnb-vdGPYjIQ",
        "colab_type": "code",
        "colab": {}
      },
      "source": [
        ""
      ],
      "execution_count": 0,
      "outputs": []
    },
    {
      "cell_type": "code",
      "metadata": {
        "id": "yX-QarZAAuRA",
        "colab_type": "code",
        "colab": {}
      },
      "source": [
        "from sklearn.metrics import confusion_matrix,classification_report,accuracy_score"
      ],
      "execution_count": 0,
      "outputs": []
    },
    {
      "cell_type": "code",
      "metadata": {
        "id": "zb0qwXaSAuRC",
        "colab_type": "code",
        "colab": {}
      },
      "source": [
        "cm=confusion_matrix(pd.DataFrame(lr.predict(train_merge4)),target)\n"
      ],
      "execution_count": 0,
      "outputs": []
    },
    {
      "cell_type": "code",
      "metadata": {
        "id": "VgAhr3wYAuRE",
        "colab_type": "code",
        "colab": {}
      },
      "source": [
        "cf=classification_report(pd.DataFrame(lr.predict(train_merge4)),target)"
      ],
      "execution_count": 0,
      "outputs": []
    },
    {
      "cell_type": "code",
      "metadata": {
        "id": "v5OFdLcSAuRG",
        "colab_type": "code",
        "outputId": "22d183c5-824e-4b02-dfec-f6d4a590d67b",
        "colab": {
          "base_uri": "https://localhost:8080/",
          "height": 243
        }
      },
      "source": [
        "print(cm)\n",
        "print(cf)"
      ],
      "execution_count": 0,
      "outputs": [
        {
          "output_type": "stream",
          "text": [
            "[[4679 1755  689]\n",
            " [  93  113   30]\n",
            " [  12    3    7]]\n",
            "              precision    recall  f1-score   support\n",
            "\n",
            "           0       0.98      0.66      0.79      7123\n",
            "           1       0.06      0.48      0.11       236\n",
            "           2       0.01      0.32      0.02        22\n",
            "\n",
            "    accuracy                           0.65      7381\n",
            "   macro avg       0.35      0.48      0.30      7381\n",
            "weighted avg       0.95      0.65      0.76      7381\n",
            "\n"
          ],
          "name": "stdout"
        }
      ]
    },
    {
      "cell_type": "code",
      "metadata": {
        "id": "9K9_SiVSAuRH",
        "colab_type": "code",
        "outputId": "c24be801-e3a1-44ee-a100-de3563ac730d",
        "colab": {
          "base_uri": "https://localhost:8080/",
          "height": 124
        }
      },
      "source": [
        "rf= RandomForestClassifier()\n",
        "rf.fit(train_merge4,target)\n",
        "rf_pred=rf.predict(test_merge4)\n",
        "rf_proba = rf.predict_proba(train_merge4)\n",
        "accuracy_score(pd.DataFrame(rf.predict(train_merge4)),target)\n",
        "ll_rf = log_loss(target, rf_proba)\n",
        "print (ll_rf)"
      ],
      "execution_count": 0,
      "outputs": [
        {
          "output_type": "stream",
          "text": [
            "0.187746421207031\n"
          ],
          "name": "stdout"
        },
        {
          "output_type": "stream",
          "text": [
            "/usr/local/lib/python3.6/dist-packages/sklearn/ensemble/forest.py:245: FutureWarning: The default value of n_estimators will change from 10 in version 0.20 to 100 in 0.22.\n",
            "  \"10 in version 0.20 to 100 in 0.22.\", FutureWarning)\n",
            "/usr/local/lib/python3.6/dist-packages/ipykernel_launcher.py:2: DataConversionWarning: A column-vector y was passed when a 1d array was expected. Please change the shape of y to (n_samples,), for example using ravel().\n",
            "  \n"
          ],
          "name": "stderr"
        }
      ]
    },
    {
      "cell_type": "code",
      "metadata": {
        "id": "logiQv4FAuRJ",
        "colab_type": "code",
        "colab": {}
      },
      "source": [
        "cm=confusion_matrix(pd.DataFrame(rf.predict(train_merge4)),target)\n"
      ],
      "execution_count": 0,
      "outputs": []
    },
    {
      "cell_type": "code",
      "metadata": {
        "id": "45KEvzeuAuRK",
        "colab_type": "code",
        "colab": {}
      },
      "source": [
        "cf=classification_report(pd.DataFrame(rf.predict(train_merge4)),target)"
      ],
      "execution_count": 0,
      "outputs": []
    },
    {
      "cell_type": "code",
      "metadata": {
        "id": "0xm9W4kcAuRM",
        "colab_type": "code",
        "outputId": "ac70a7ef-8615-43c9-a163-745a227f7d0d",
        "colab": {
          "base_uri": "https://localhost:8080/",
          "height": 243
        }
      },
      "source": [
        "print(cm)\n",
        "print(cf)"
      ],
      "execution_count": 0,
      "outputs": [
        {
          "output_type": "stream",
          "text": [
            "[[4672  142   54]\n",
            " [  88 1701   35]\n",
            " [  24   28  637]]\n",
            "              precision    recall  f1-score   support\n",
            "\n",
            "           0       0.98      0.96      0.97      4868\n",
            "           1       0.91      0.93      0.92      1824\n",
            "           2       0.88      0.92      0.90       689\n",
            "\n",
            "    accuracy                           0.95      7381\n",
            "   macro avg       0.92      0.94      0.93      7381\n",
            "weighted avg       0.95      0.95      0.95      7381\n",
            "\n"
          ],
          "name": "stdout"
        }
      ]
    },
    {
      "cell_type": "code",
      "metadata": {
        "id": "QaqmkYN8AuRO",
        "colab_type": "code",
        "outputId": "e88f107f-246a-4a4a-ec1c-8d2378d773f2",
        "colab": {
          "base_uri": "https://localhost:8080/",
          "height": 260
        }
      },
      "source": [
        "cb = CatBoostClassifier(depth=10, learning_rate=0.25, verbose=False)\n",
        "cb.fit(train_merge4,target)\n",
        "cb_pred=cb.predict(test_merge4)\n",
        "cb_proba = cb.predict_proba(train_merge4)\n",
        "accuracy_score(pd.DataFrame(cb.predict(train_merge4)),target)\n",
        "\n",
        "cm=confusion_matrix(pd.DataFrame(cb.predict(train_merge4)),target)\n",
        "cf=classification_report(pd.DataFrame(cb.predict(train_merge4)),target)\n",
        "ll_cb = log_loss(target, cb_proba) \n",
        "print(ll_cb)\n",
        "print(cm)\n",
        "print(cf)\n",
        "#print (cf[\"0\"][\"precision\"], cf[\"0\"][\"recall\"], cf[\"0\"][\"f1-score\"])\n"
      ],
      "execution_count": 0,
      "outputs": [
        {
          "output_type": "stream",
          "text": [
            "0.20558286719642418\n",
            "[[4644  208   49]\n",
            " [ 116 1637   34]\n",
            " [  24   26  643]]\n",
            "              precision    recall  f1-score   support\n",
            "\n",
            "         0.0       0.97      0.95      0.96      4901\n",
            "         1.0       0.87      0.92      0.90      1787\n",
            "         2.0       0.89      0.93      0.91       693\n",
            "\n",
            "    accuracy                           0.94      7381\n",
            "   macro avg       0.91      0.93      0.92      7381\n",
            "weighted avg       0.94      0.94      0.94      7381\n",
            "\n"
          ],
          "name": "stdout"
        }
      ]
    },
    {
      "cell_type": "code",
      "metadata": {
        "id": "n0rRKAZ1dpHF",
        "colab_type": "code",
        "outputId": "b574fbb9-6f88-4f39-bd80-46a9b77acd9e",
        "colab": {
          "base_uri": "https://localhost:8080/",
          "height": 292
        }
      },
      "source": [
        "#import pandas as pd\n",
        "df = pd.DataFrame([['0','LR',0.98],['0','RF',0.98],['0','CB',0.97],['0','RRF',0.98],['1','LR',0.06],\n",
        "                   ['1','RF',0.91],['1','CB',0.87],['1','RRF',0.98],['2','LR',0.01],['2','RF',0.88],['2','CB',0.89], ['2','RRF',0.98]],columns=['class','precision','val'])\n",
        "df.pivot(\"class\",\"precision\",\"val\").plot(kind='bar', title=\"precision\")\n",
        "plt.legend(loc='center left', bbox_to_anchor=(1.0, 0.5), frameon=False)\n",
        "plt.show()"
      ],
      "execution_count": 0,
      "outputs": [
        {
          "output_type": "display_data",
          "data": {
            "image/png": "[encoded data removed]",
            "text/plain": [
              "<Figure size 432x288 with 1 Axes>"
            ]
          },
          "metadata": {
            "tags": []
          }
        }
      ]
    },
    {
      "cell_type": "code",
      "metadata": {
        "id": "sROolSLAeLCq",
        "colab_type": "code",
        "outputId": "bbfd24a0-47b9-4890-9f3d-a10a4893bcf6",
        "colab": {
          "base_uri": "https://localhost:8080/",
          "height": 292
        }
      },
      "source": [
        "df = pd.DataFrame([['0','LR',0.66],['0','RF',0.96],['0','CB',0.95],['0','RRF',0.96],['1','LR',0.48],\n",
        "                   ['1','RF',0.93],['1','CB',0.92],['1','RRF',0.95],['2','LR',0.32],['2','RF',0.93],['2','CB',0.93], ['2','RRF',0.96]],columns=['class','recall','val'])\n",
        "df.pivot(\"class\",\"recall\",\"val\").plot(kind='bar', title='recall')\n",
        "plt.legend(loc='center left', bbox_to_anchor=(1.0, 0.5), frameon=False)\n",
        "plt.show()"
      ],
      "execution_count": 0,
      "outputs": [
        {
          "output_type": "display_data",
          "data": {
            "image/png": "[encoded data removed]",
            "text/plain": [
              "<Figure size 432x288 with 1 Axes>"
            ]
          },
          "metadata": {
            "tags": []
          }
        }
      ]
    },
    {
      "cell_type": "code",
      "metadata": {
        "id": "BV--ICk1iFtU",
        "colab_type": "code",
        "outputId": "313b1270-cb07-4c4f-b77a-01dc9d65b34a",
        "colab": {
          "base_uri": "https://localhost:8080/",
          "height": 292
        }
      },
      "source": [
        "df = pd.DataFrame([['0','LR',0.79],['0','RF',0.97],['0','CB',0.96],['0','RRF',0.92],['1','LR',0.11],\n",
        "                   ['1','RF',0.92],['1','CB',0.90],['1','RRF',0.94],['2','LR',0.02],['2','RF',0.90],['2','CB',0.91], ['2','RRF',0.93]],columns=['class','f1-score','val'])\n",
        "df.pivot(\"class\",\"f1-score\",\"val\").plot(kind='bar', title=\"f1-score\")\n",
        "#plt.legend(loc='center left', bbox_to_anchor=(1.0, 0.5))\n",
        "plt.legend(loc='center left', bbox_to_anchor=(1.0, 0.5), frameon=False)\n",
        "plt.show()"
      ],
      "execution_count": 0,
      "outputs": [
        {
          "output_type": "display_data",
          "data": {
            "image/png": "[encoded data removed]",
            "text/plain": [
              "<Figure size 432x288 with 1 Axes>"
            ]
          },
          "metadata": {
            "tags": []
          }
        }
      ]
    },
    {
      "cell_type": "code",
      "metadata": {
        "id": "iRasOCRXiWs0",
        "colab_type": "code",
        "outputId": "6b2da538-8d41-41af-e142-53cd5f7d40a2",
        "colab": {
          "base_uri": "https://localhost:8080/",
          "height": 349
        }
      },
      "source": [
        "refined_rf = RefinedRandomForest(rf, C = 1e2, n_prunings = 0)\n",
        "refined_rf.fit(train_merge4,target)\n",
        "refined_rf_pred=refined_rf.predict_proba(test_merge4)\n",
        "refined_proba = refined_rf.predict_proba(train_merge4)\n",
        "refined_rf_pred = np.argmax(refined_rf_pred,axis=1)\n",
        "\n",
        "redfined_rf_on_training = np.argmax(refined_rf.predict_proba(train_merge4),axis=1)\n",
        "accuracy_score(pd.DataFrame(redfined_rf_on_training),target)\n",
        "\n",
        "cm=confusion_matrix(pd.DataFrame(redfined_rf_on_training),target)\n",
        "cf=classification_report(pd.DataFrame(redfined_rf_on_training),target, output_dict=False)\n",
        "ll_rrf = log_loss(target, refined_proba) \n",
        "\n",
        "#print (cf[\"0\"][\"precision\"], cf[\"0\"][\"recall\"], cf[\"0\"][\"f1-score\"])\n",
        "print(ll_rrf)\n",
        "print(cm)\n",
        "print(cf)\n",
        "plt.figure(figsize = (10,7))\n",
        "#sns.heatmap(cm, annot=True)"
      ],
      "execution_count": 0,
      "outputs": [
        {
          "output_type": "stream",
          "text": [
            "/usr/local/lib/python3.6/dist-packages/sklearn/utils/validation.py:724: DataConversionWarning: A column-vector y was passed when a 1d array was expected. Please change the shape of y to (n_samples, ), for example using ravel().\n",
            "  y = column_or_1d(y, warn=True)\n"
          ],
          "name": "stderr"
        },
        {
          "output_type": "stream",
          "text": [
            "0.04848261769798362\n",
            "[[4700   62   35]\n",
            " [  63 1788   22]\n",
            " [  21   21  669]]\n",
            "              precision    recall  f1-score   support\n",
            "\n",
            "           0       0.98      0.98      0.98      4797\n",
            "           1       0.96      0.95      0.96      1873\n",
            "           2       0.92      0.94      0.93       711\n",
            "\n",
            "    accuracy                           0.97      7381\n",
            "   macro avg       0.95      0.96      0.96      7381\n",
            "weighted avg       0.97      0.97      0.97      7381\n",
            "\n"
          ],
          "name": "stdout"
        },
        {
          "output_type": "execute_result",
          "data": {
            "text/plain": [
              "<Figure size 720x504 with 0 Axes>"
            ]
          },
          "metadata": {
            "tags": []
          },
          "execution_count": 43
        },
        {
          "output_type": "display_data",
          "data": {
            "text/plain": [
              "<Figure size 720x504 with 0 Axes>"
            ]
          },
          "metadata": {
            "tags": []
          }
        }
      ]
    },
    {
      "cell_type": "code",
      "metadata": {
        "id": "uBOOBHCkDG_M",
        "colab_type": "code",
        "outputId": "6d28753f-7c7a-426f-d59e-a8acceacf4d0",
        "colab": {
          "base_uri": "https://localhost:8080/",
          "height": 375
        }
      },
      "source": [
        "\n",
        "x = [ll_lr, ll_rf, ll_cb, ll_rrf]\n",
        "clf = [\"LR\",\"RandomForest\",\"CatBoost\",\"Refined RF\"]\n",
        "#r = [\"green\",\"red\",\"blue\", \"yellow\"]\n",
        "#df = pd.DataFrame([[\"classifier\", \"log-loss\"],[\"LR\", ll_lr],[\"RF\",ll_rf], [\"CB\",ll_cb], [\"RRF\", ll_rrf]])\n",
        "#plt.bar(clf, x)\n",
        "# df = pd.DataFrame({'month': [1, 4, 7, 10],\n",
        "# ...                    'year': [2012, 2014, 2013, 2014],\n",
        "# ...                    'sale': [55, 40, 84, 31]})\n",
        "df = pd.DataFrame({'classifier': clf, 'values': x})\n",
        "#df.set_index('classifier')\n",
        "df.plot(kind='bar', title=\"log loss\", legend=False, x=\"classifier\", y=\"values\" )"
      ],
      "execution_count": 0,
      "outputs": [
        {
          "output_type": "execute_result",
          "data": {
            "text/plain": [
              "<matplotlib.axes._subplots.AxesSubplot at 0x7fcfe2d8d240>"
            ]
          },
          "metadata": {
            "tags": []
          },
          "execution_count": 44
        },
        {
          "output_type": "display_data",
          "data": {
            "image/png": "[encoded data removed]",
            "text/plain": [
              "<Figure size 432x288 with 1 Axes>"
            ]
          },
          "metadata": {
            "tags": []
          }
        }
      ]
    },
    {
      "cell_type": "code",
      "metadata": {
        "id": "eVUeQn3ioc7B",
        "colab_type": "code",
        "outputId": "afba20bf-1fb3-4ec7-abf2-71164a59506e",
        "colab": {
          "base_uri": "https://localhost:8080/",
          "height": 375
        }
      },
      "source": [
        "x = [54, 95, 94,97]\n",
        "clf = [\"LR\",\"RandomForest\",\"CatBoost\",\"Refined RF\"]\n",
        "df = pd.DataFrame({'classifier': clf, 'values': x})\n",
        "df.plot(kind='bar', title=\"Accuracy\", legend=False, x=\"classifier\", y=\"values\" )\n"
      ],
      "execution_count": 0,
      "outputs": [
        {
          "output_type": "execute_result",
          "data": {
            "text/plain": [
              "<matplotlib.axes._subplots.AxesSubplot at 0x7fcfe3c42f28>"
            ]
          },
          "metadata": {
            "tags": []
          },
          "execution_count": 45
        },
        {
          "output_type": "display_data",
          "data": {
            "image/png": "[encoded data removed]",
            "text/plain": [
              "<Figure size 432x288 with 1 Axes>"
            ]
          },
          "metadata": {
            "tags": []
          }
        }
      ]
    },
    {
      "cell_type": "code",
      "metadata": {
        "id": "59a23cjOz4UP",
        "colab_type": "code",
        "colab": {}
      },
      "source": [
        ""
      ],
      "execution_count": 0,
      "outputs": []
    }
  ]
}